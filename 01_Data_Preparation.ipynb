{
 "cells": [
  {
   "cell_type": "markdown",
   "id": "e7410357",
   "metadata": {},
   "source": [
    "# Data Preparation for CIFAR-10 Image Classification\n",
    "\n",
    "This notebook guides you through the process of preparing the data for the CIFAR-10 image classification project using PyTorch.\n",
    "\n",
    "## Import Required Libraries\n",
    "\n",
    "First, let's import the necessary libraries for data loading and processing.\n"
   ]
  },
  {
   "cell_type": "code",
   "execution_count": null,
   "id": "d3286460",
   "metadata": {},
   "outputs": [],
   "source": [
    "import torch\n",
    "import torchvision\n",
    "import torchvision.transforms as transforms\n"
   ]
  },
  {
   "cell_type": "markdown",
   "id": "f59e1129",
   "metadata": {},
   "source": [
    "## Load and Transform the CIFAR-10 Dataset\n",
    "\n",
    "The CIFAR-10 dataset consists of 60,000 32x32 color images in 10 classes, with 6,000 images per class. \n",
    "PyTorch's `torchvision` package makes it easy to load and preprocess this dataset.\n"
   ]
  },
  {
   "cell_type": "code",
   "execution_count": null,
   "id": "d94617e7",
   "metadata": {},
   "outputs": [],
   "source": [
    "# Transformations to be applied on images\n",
    "transform = transforms.Compose([\n",
    "    transforms.ToTensor(),\n",
    "    transforms.Normalize((0.5, 0.5, 0.5), (0.5, 0.5, 0.5))\n",
    "])\n",
    "\n",
    "# Load the training data\n",
    "trainset = torchvision.datasets.CIFAR10(root='./data', train=True,\n",
    "                                        download=True, transform=transform)\n",
    "trainloader = torch.utils.data.DataLoader(trainset, batch_size=4,\n",
    "                                          shuffle=True, num_workers=2)\n",
    "\n",
    "# Load the test data\n",
    "testset = torchvision.datasets.CIFAR10(root='./data', train=False,\n",
    "                                       download=True, transform=transform)\n",
    "testloader = torch.utils.data.DataLoader(testset, batch_size=4,\n",
    "                                         shuffle=False, num_workers=2)\n"
   ]
  },
  {
   "cell_type": "markdown",
   "id": "2212f1de",
   "metadata": {},
   "source": [
    "## Visualizing the Data\n",
    "\n",
    "Let's visualize some images from the dataset. It's always a good practice to understand the data you're working with.\n"
   ]
  },
  {
   "cell_type": "code",
   "execution_count": null,
   "id": "2ef71e7c",
   "metadata": {},
   "outputs": [],
   "source": [
    "import matplotlib.pyplot as plt\n",
    "import numpy as np\n",
    "\n",
    "# Function to show an image\n",
    "def imshow(img):\n",
    "    img = img / 2 + 0.5  # Unnormalize\n",
    "    npimg = img.numpy()\n",
    "    plt.imshow(np.transpose(npimg, (1, 2, 0)))\n",
    "    plt.show()\n",
    "\n",
    "# Get some random training images\n",
    "dataiter = iter(trainloader)\n",
    "images, labels = next(dataiter)\n",
    "\n",
    "# Show images\n",
    "imshow(torchvision.utils.make_grid(images))\n"
   ]
  }
 ],
 "metadata": {},
 "nbformat": 4,
 "nbformat_minor": 5
}
