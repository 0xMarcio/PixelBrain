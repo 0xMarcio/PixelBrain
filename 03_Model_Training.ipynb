{
 "cells": [
  {
   "cell_type": "markdown",
   "id": "87b37ffc",
   "metadata": {},
   "source": [
    "# Model Training for CIFAR-10 Image Classification\n",
    "\n",
    "In this notebook, we will go through the training process of our CNN model for the CIFAR-10 image classification project using PyTorch.\n",
    "\n",
    "## Import Required Libraries\n",
    "\n",
    "First, let's import the necessary libraries and modules.\n"
   ]
  },
  {
   "cell_type": "code",
   "execution_count": null,
   "id": "519a5a19",
   "metadata": {},
   "outputs": [],
   "source": [
    "import torch\n",
    "import torchvision\n",
    "import torchvision.transforms as transforms\n",
    "import torch.nn as nn\n",
    "import torch.optim as optim\n"
   ]
  },
  {
   "cell_type": "markdown",
   "id": "a37bbeeb",
   "metadata": {},
   "source": [
    "## Load and Transform the CIFAR-10 Dataset\n",
    "\n",
    "We'll load the CIFAR-10 dataset and apply the necessary transformations.\n"
   ]
  },
  {
   "cell_type": "code",
   "execution_count": null,
   "id": "72c1b2a7",
   "metadata": {},
   "outputs": [],
   "source": [
    "transform = transforms.Compose([\n",
    "    transforms.ToTensor(),\n",
    "    transforms.Normalize((0.5, 0.5, 0.5), (0.5, 0.5, 0.5))\n",
    "])\n",
    "\n",
    "trainset = torchvision.datasets.CIFAR10(root='./data', train=True,\n",
    "                                        download=True, transform=transform)\n",
    "trainloader = torch.utils.data.DataLoader(trainset, batch_size=4,\n",
    "                                          shuffle=True, num_workers=2)\n",
    "\n",
    "testset = torchvision.datasets.CIFAR10(root='./data', train=False,\n",
    "                                       download=True, transform=transform)\n",
    "testloader = torch.utils.data.DataLoader(testset, batch_size=4,\n",
    "                                         shuffle=False, num_workers=2)\n"
   ]
  },
  {
   "cell_type": "markdown",
   "id": "62344a65",
   "metadata": {},
   "source": [
    "## Define the Network Architecture\n",
    "\n",
    "Here, we define our CNN model architecture.\n"
   ]
  },
  {
   "cell_type": "code",
   "execution_count": null,
   "id": "0660401a",
   "metadata": {},
   "outputs": [],
   "source": [
    "class Net(nn.Module):\n",
    "    def __init__(self):\n",
    "        super(Net, self).__init__()\n",
    "        self.conv1 = nn.Conv2d(3, 6, 5)\n",
    "        self.pool = nn.MaxPool2d(2, 2)\n",
    "        self.conv2 = nn.Conv2d(6, 16, 5)\n",
    "        self.fc1 = nn.Linear(16 * 5 * 5, 120)\n",
    "        self.fc2 = nn.Linear(120, 84)\n",
    "        self.fc3 = nn.Linear(84, 10)\n",
    "\n",
    "    def forward(self, x):\n",
    "        x = self.pool(F.relu(self.conv1(x)))\n",
    "        x = self.pool(F.relu(self.conv2(x)))\n",
    "        x = x.view(-1, 16 * 5 * 5)\n",
    "        x = F.relu(self.fc1(x))\n",
    "        x = F.relu(self.fc2(x))\n",
    "        x = self.fc3(x)\n",
    "        return x\n",
    "\n",
    "net = Net()\n"
   ]
  },
  {
   "cell_type": "markdown",
   "id": "94a7be78",
   "metadata": {},
   "source": [
    "## Define a Loss Function and Optimizer\n",
    "\n",
    "Now, let's specify the loss function and optimizer for our training.\n"
   ]
  },
  {
   "cell_type": "code",
   "execution_count": null,
   "id": "7cb9ef9d",
   "metadata": {},
   "outputs": [],
   "source": [
    "criterion = nn.CrossEntropyLoss()\n",
    "optimizer = optim.SGD(net.parameters(), lr=0.001, momentum=0.9)\n"
   ]
  },
  {
   "cell_type": "markdown",
   "id": "7bbe5430",
   "metadata": {},
   "source": [
    "## Train the Network\n",
    "\n",
    "It's time to train our network. We will iterate over our data iterator, feed the inputs to the network, and optimize.\n"
   ]
  },
  {
   "cell_type": "code",
   "execution_count": null,
   "id": "7ef137e7",
   "metadata": {},
   "outputs": [],
   "source": [
    "for epoch in range(2):  # loop over the dataset multiple times\n",
    "\n",
    "    running_loss = 0.0\n",
    "    for i, data in enumerate(trainloader, 0):\n",
    "        inputs, labels = data\n",
    "\n",
    "        optimizer.zero_grad()\n",
    "\n",
    "        outputs = net(inputs)\n",
    "        loss = criterion(outputs, labels)\n",
    "        loss.backward()\n",
    "        optimizer.step()\n",
    "\n",
    "        running_loss += loss.item()\n",
    "        if i % 2000 == 1999:    # print every 2000 mini-batches\n",
    "            print(f'[Epoch: {epoch + 1}, Batch: {i + 1}] Loss: {running_loss / 2000}')\n",
    "            running_loss = 0.0\n",
    "\n",
    "print('Finished Training')\n"
   ]
  },
  {
   "cell_type": "markdown",
   "id": "15278185",
   "metadata": {},
   "source": [
    "## Save the Trained Model\n",
    "\n",
    "After training, we'll save our trained model for future use.\n"
   ]
  },
  {
   "cell_type": "code",
   "execution_count": null,
   "id": "7acaf525",
   "metadata": {},
   "outputs": [],
   "source": [
    "PATH = './cifar_net.pth'\n",
    "torch.save(net.state_dict(), PATH)\n"
   ]
  }
 ],
 "metadata": {},
 "nbformat": 4,
 "nbformat_minor": 5
}
