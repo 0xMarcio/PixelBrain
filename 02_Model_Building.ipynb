{
 "cells": [
  {
   "cell_type": "markdown",
   "id": "86374c79",
   "metadata": {},
   "source": [
    "# Model Building for CIFAR-10 Image Classification\n",
    "\n",
    "In this notebook, we will build the convolutional neural network (CNN) model for our CIFAR-10 image classification project using PyTorch.\n",
    "\n",
    "## Import Required Libraries\n",
    "\n",
    "We'll start by importing the necessary libraries.\n"
   ]
  },
  {
   "cell_type": "code",
   "execution_count": null,
   "id": "9a017df8",
   "metadata": {},
   "outputs": [],
   "source": [
    "import torch\n",
    "import torch.nn as nn\n",
    "import torch.nn.functional as F\n"
   ]
  },
  {
   "cell_type": "markdown",
   "id": "d390f5ad",
   "metadata": {},
   "source": [
    "## Define the CNN Architecture\n",
    "\n",
    "We will define our CNN architecture here. Our model will have several convolutional layers, followed by max-pooling layers and fully connected layers.\n"
   ]
  },
  {
   "cell_type": "code",
   "execution_count": null,
   "id": "4740922c",
   "metadata": {},
   "outputs": [],
   "source": [
    "class Net(nn.Module):\n",
    "    def __init__(self):\n",
    "        super(Net, self).__init__()\n",
    "        self.conv1 = nn.Conv2d(3, 6, 5)\n",
    "        self.pool = nn.MaxPool2d(2, 2)\n",
    "        self.conv2 = nn.Conv2d(6, 16, 5)\n",
    "        self.fc1 = nn.Linear(16 * 5 * 5, 120)\n",
    "        self.fc2 = nn.Linear(120, 84)\n",
    "        self.fc3 = nn.Linear(84, 10)\n",
    "\n",
    "    def forward(self, x):\n",
    "        x = self.pool(F.relu(self.conv1(x)))\n",
    "        x = self.pool(F.relu(self.conv2(x)))\n",
    "        x = x.view(-1, 16 * 5 * 5)\n",
    "        x = F.relu(self.fc1(x))\n",
    "        x = F.relu(self.fc2(x))\n",
    "        x = self.fc3(x)\n",
    "        return x\n",
    "\n",
    "# Instantiate the network\n",
    "net = Net()\n"
   ]
  },
  {
   "cell_type": "markdown",
   "id": "05c6efd1",
   "metadata": {},
   "source": [
    "## Summary of the Model\n",
    "\n",
    "Let's check the summary of our model to ensure it's as expected.\n"
   ]
  },
  {
   "cell_type": "code",
   "execution_count": null,
   "id": "0b8e4c45",
   "metadata": {},
   "outputs": [],
   "source": [
    "print(net)\n"
   ]
  },
  {
   "cell_type": "markdown",
   "id": "9f91ae3f",
   "metadata": {},
   "source": [
    "## Next Steps\n",
    "\n",
    "Now that our model is built, the next step is to train it with our CIFAR-10 data. We will cover this in the next notebook, '03_Model_Training.ipynb'.\n"
   ]
  }
 ],
 "metadata": {},
 "nbformat": 4,
 "nbformat_minor": 5
}
